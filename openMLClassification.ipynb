{
 "cells": [
  {
   "cell_type": "code",
   "execution_count": 7,
   "metadata": {
    "metadata": {}
   },
   "outputs": [],
   "source": [
    "from typing import Tuple, List, Union, Any, Optional, Dict, Literal, Callable\n",
    "import time\n",
    "import collections\n",
    "import os\n",
    "import sys\n",
    "sys.path.append(os.path.dirname(os.getcwd()))\n",
    "sys.path.append(os.path.dirname(os.path.dirname(os.getcwd())))\n",
    "\n",
    "from tqdm import tqdm\n",
    "import numpy as np\n",
    "import torch\n",
    "import torch.nn as nn\n",
    "from torch import Tensor, tensor\n",
    "import pandas as pd\n",
    "import openml\n",
    "\n",
    "\n",
    "from optuna_kfoldCV import evaluate_dataset_with_model, run_all_openML_with_model\n",
    "from classification_param_specs import evaluate_LogisticRegression, evaluate_XGBoostClassifier\n",
    "\n",
    "np.set_printoptions(precision=3, threshold=5) # Print options"
   ]
  },
  {
   "cell_type": "markdown",
   "metadata": {},
   "source": [
    "# How to run an experiment"
   ]
  },
  {
   "cell_type": "code",
   "execution_count": 8,
   "metadata": {},
   "outputs": [],
   "source": [
    "# !python classification_param_specs.py \\\n",
    "#     --models LogisticRegression \\\n",
    "#     --dataset_indices 0 1 2 \\\n",
    "#     --save_dir /home/USERNAME/Code/RFRBoost-sup-mat/save/OpenMLClassification/ \\\n",
    "#     --n_optuna_trials 100 \\\n",
    "#     --device cpu \\\n",
    "#     --k_folds 5 \\\n",
    "#     --cv_seed 42"
   ]
  },
  {
   "cell_type": "markdown",
   "metadata": {},
   "source": [
    "# join json results"
   ]
  },
  {
   "cell_type": "code",
   "execution_count": 9,
   "metadata": {},
   "outputs": [],
   "source": [
    "from pydantic.v1.utils import deep_update\n",
    "import json\n",
    "import os\n",
    "import numpy as np\n",
    "import pandas as pd\n",
    "\n",
    "from optuna_kfoldCV import openML_cls_ids\n",
    "\n",
    "\n",
    "def read_json(path):\n",
    "    with open(path, \"r\") as f:\n",
    "        return json.load(f)\n",
    "    \n",
    "\n",
    "\n",
    "def custom_deep_update(original, update):\n",
    "    for key, value in update.items():\n",
    "        if isinstance(value, dict) and key in original:\n",
    "            custom_deep_update(original[key], value)\n",
    "        else:\n",
    "            original[key] = value\n",
    "\n",
    "\n",
    "\n",
    "def get_joined_results_json(\n",
    "        models = [\"End2End\", \"Ridge\", \"XGBoostRegressor\",\n",
    "                  \"GradientRFRBoost\", \"GradientRFRBoostID\", \n",
    "                  \"GreedyRFRBoostDense\", \"GreedyRFRBoostDiag\", \"GreedyRFRBoostScalar\",\n",
    "                  \"RandomFeatureNetwork\"],\n",
    "        datasets = openML_cls_ids,\n",
    "        save_dir = \"/home/USERNAME/Code/RFRBoost-sup-mat/save/OpenMLClassification/\",\n",
    "        classification_or_regression = \"classification\",\n",
    "        ):\n",
    "    results_json = {}\n",
    "    for model in models:\n",
    "        for dataset in datasets:\n",
    "            path = os.path.join(save_dir, f\"{classification_or_regression}_{dataset}_{model}.json\")\n",
    "            res = read_json(path)\n",
    "            if results_json == {}:\n",
    "                results_json = res\n",
    "            else:\n",
    "                custom_deep_update(results_json, res)\n",
    "    return results_json\n",
    "\n",
    "\n",
    "\n",
    "def join_jsons_into_array(\n",
    "        results_json,\n",
    "        ):\n",
    "    results = []\n",
    "    for dataset, dataset_results in results_json.items():\n",
    "        res = []\n",
    "        for model_name, model_results in dataset_results.items():\n",
    "            model_res = np.stack([model_results[\"score_train\"], model_results[\"score_test\"], model_results[\"t_fit\"], model_results[\"t_inference\"]])\n",
    "            res.append(model_res)\n",
    "        results.append(res)\n",
    "    return np.stack(results) # (n_datasets, n_models, 4, n_folds)\n",
    "\n",
    "\n",
    "def results_to_df(\n",
    "        models = [\"End2End\", \"Ridge\", \"XGBoostRegressor\", \n",
    "                  \"GradientRFRBoost\", \"GradientRFRBoostID\", \n",
    "                  \"GradientRFRBoost_relu\",\n",
    "                  \"GreedyRFRBoostDense\", \"GreedyRFRBoostDiag\", \"GreedyRFRBoostScalar\",\n",
    "                  \"GreedyRFRBoostDense_relu\", \"GreedyRFRBoostDiag_relu\", \"GreedyRFRBoostScalar_relu\",\n",
    "                  \"RandomFeatureNetwork\", \"RandomFeatureNetwork_iid\",\n",
    "                  \"RandomFeatureNetwork_relu\", \"RandomFeatureNetwork_iid_relu\",\n",
    "                  ],\n",
    "        datasets = openML_cls_ids[:],\n",
    "        save_dir = \"/home/USERNAME/Code/RFRBoost-sup-mat/save/OpenMLClassification/\",\n",
    "        keep_individual_folds = False,\n",
    "        ):\n",
    "    # Load and join the JSON data\n",
    "    results_json = get_joined_results_json(models, datasets, save_dir)\n",
    "    results = join_jsons_into_array(results_json) # (n_datasets, n_models, 4, n_folds)\n",
    "    \n",
    "    metrics = [\"score_train\", \"score_test\", \"t_fit\", \"t_inference\"]\n",
    "    metric_dfs = {}\n",
    "    \n",
    "    if keep_individual_folds:\n",
    "        n_folds = results.shape[-1]\n",
    "        for metric in metrics:\n",
    "            # Create indices like '3_1', '3_2', etc.\n",
    "            indices = [f\"{dataset}_{fold+1}\" for dataset in datasets for fold in range(n_folds)]\n",
    "            metric_dfs[metric] = pd.DataFrame(index=indices, columns=models)\n",
    "            \n",
    "            for dataset_idx, dataset in enumerate(datasets):\n",
    "                for fold in range(n_folds):\n",
    "                    for model_idx, model in enumerate(models):\n",
    "                        value = results[dataset_idx, model_idx, metrics.index(metric), fold]\n",
    "                        index = f\"{dataset}_{fold+1}\"\n",
    "                        metric_dfs[metric].loc[index, model] = value\n",
    "    else:\n",
    "        # Original behavior with means and stds\n",
    "        results_mean = np.mean(results, axis=-1)\n",
    "        results_std = np.std(results, axis=-1)\n",
    "        \n",
    "        for metric in metrics:\n",
    "            metric_dfs[metric] = pd.DataFrame(index=datasets, columns=models)\n",
    "            metric_dfs[f\"{metric}_std\"] = pd.DataFrame(index=datasets, columns=models)\n",
    "        \n",
    "        for dataset_idx, dataset in enumerate(datasets):\n",
    "            for model_idx, model in enumerate(models):\n",
    "                for metric_idx, metric in enumerate(metrics):\n",
    "                    metric_dfs[metric].loc[dataset, model] = results_mean[dataset_idx, model_idx, metric_idx]\n",
    "                    metric_dfs[f\"{metric}_std\"].loc[dataset, model] = results_std[dataset_idx, model_idx, metric_idx]\n",
    "    \n",
    "    return metric_dfs"
   ]
  },
  {
   "cell_type": "code",
   "execution_count": 18,
   "metadata": {},
   "outputs": [],
   "source": [
    "save_dir = \"/home/USERNAME/Code/RFRBoost-sup-mat/save/OpenMLClassification/\""
   ]
  },
  {
   "cell_type": "code",
   "execution_count": 11,
   "metadata": {},
   "outputs": [],
   "source": [
    "df = results_to_df(        \n",
    "    models = [\"End2End_cpu\", \n",
    "                \"LogisticRegression\", \n",
    "                \"XGBoostClassifier\", \n",
    "                \"RFNN\",\n",
    "                \"RFRBoost_ID_batchnormFalse\",\n",
    "                ],\n",
    "    datasets = openML_cls_ids[[i for i in range(len(openML_cls_ids)) if i not in []]],\n",
    "    save_dir=save_dir,\n",
    "    keep_individual_folds=False,\n",
    "    )"
   ]
  },
  {
   "cell_type": "code",
   "execution_count": 12,
   "metadata": {},
   "outputs": [
    {
     "data": {
      "text/plain": [
       "RFRBoost_ID_batchnormFalse   -0.853598\n",
       "XGBoostClassifier            -0.852223\n",
       "End2End_cpu                  -0.850486\n",
       "RFNN                         -0.844792\n",
       "LogisticRegression           -0.821484\n",
       "dtype: object"
      ]
     },
     "execution_count": 12,
     "metadata": {},
     "output_type": "execute_result"
    }
   ],
   "source": [
    "df[\"score_test\"].mean().sort_values(ascending=True)"
   ]
  },
  {
   "cell_type": "code",
   "execution_count": 13,
   "metadata": {},
   "outputs": [
    {
     "data": {
      "text/plain": [
       "LogisticRegression             0.133748\n",
       "RFNN                           1.022023\n",
       "RFRBoost_ID_batchnormFalse     2.005622\n",
       "XGBoostClassifier              3.695354\n",
       "End2End_cpu                   30.517586\n",
       "dtype: object"
      ]
     },
     "execution_count": 13,
     "metadata": {},
     "output_type": "execute_result"
    }
   ],
   "source": [
    "df[\"t_fit\"].mean().sort_values(ascending=True)"
   ]
  },
  {
   "cell_type": "code",
   "execution_count": 14,
   "metadata": {},
   "outputs": [
    {
     "data": {
      "text/plain": [
       "RFRBoost_ID_batchnormFalse    2.149123\n",
       "End2End_cpu                   2.824561\n",
       "XGBoostClassifier             2.850877\n",
       "RFNN                          3.307018\n",
       "LogisticRegression            3.868421\n",
       "dtype: float64"
      ]
     },
     "execution_count": 14,
     "metadata": {},
     "output_type": "execute_result"
    }
   ],
   "source": [
    "df[\"score_test\"].rank(axis=1).mean().sort_values()"
   ]
  },
  {
   "cell_type": "markdown",
   "metadata": {},
   "source": [
    "# Print results"
   ]
  },
  {
   "cell_type": "code",
   "execution_count": 15,
   "metadata": {},
   "outputs": [
    {
     "name": "stdout",
     "output_type": "stream",
     "text": [
      "Index(['End2End_cpu', 'LogisticRegression', 'XGBoostClassifier', 'RFNN',\n",
      "       'RFRBoost_ID_batchnormFalse'],\n",
      "      dtype='object')\n",
      "Index(['E2E MLP ResNet', 'Logistic Regression', 'XGBoost', 'RFNN', 'RFRBoost'], dtype='object')\n"
     ]
    }
   ],
   "source": [
    "df_renamed = {k:v for k,v in df.items()}\n",
    "print(df_renamed[\"score_test\"].columns)\n",
    "for key in df_renamed.keys():\n",
    "    df_renamed[key] = df_renamed[key].rename(columns={\n",
    "        \"End2End_cpu\": \"E2E MLP ResNet\",\n",
    "        \"LogisticRegression\": \"Logistic Regression\",\n",
    "        \"XGBoostClassifier\": \"XGBoost\",\n",
    "        \"RFRBoost_ID_batchnormFalse\": \"RFRBoost\",\n",
    "        \"RFNN\": \"RFNN\",\n",
    "        })\n",
    "print(df_renamed[\"score_test\"].columns)"
   ]
  },
  {
   "cell_type": "code",
   "execution_count": 16,
   "metadata": {},
   "outputs": [
    {
     "name": "stderr",
     "output_type": "stream",
     "text": [
      "/tmp/ipykernel_17483/3529910158.py:22: UserWarning: This figure includes Axes that are not compatible with tight_layout, so results might be incorrect.\n",
      "  fig.tight_layout()\n"
     ]
    },
    {
     "data": {
      "image/png": "[encoded data removed]",
      "text/plain": [
       "<Figure size 600x300 with 1 Axes>"
      ]
     },
     "metadata": {},
     "output_type": "display_data"
    }
   ],
   "source": [
    "from aeon.visualisation import plot_critical_difference, plot_significance\n",
    "import matplotlib.pyplot as plt\n",
    "\n",
    "# Generate the plot\n",
    "plot = plot_critical_difference(df_renamed[\"score_test\"].values,\n",
    "                                df_renamed[\"score_test\"].columns.tolist(), \n",
    "                                alpha=0.10, \n",
    "                                lower_better=True,\n",
    "                                digits=2,\n",
    "                                width=7, #default 6\n",
    "                                textspace=2.0, #default 1.5\n",
    "                                )\n",
    "\n",
    "# Retrieve the figure and axes from the plot\n",
    "fig = plot[0].figure\n",
    "ax = plot[0]\n",
    "\n",
    "# Adjust figure size\n",
    "fig.set_size_inches(6, 3)\n",
    "\n",
    "# Adjust layout\n",
    "fig.tight_layout()\n",
    "\n",
    "# Save the figures\n",
    "plot[0].savefig(\"results/OpenMLClassification/OpenMLCls_critical_difference.eps\", bbox_inches='tight')\n",
    "plot[0].savefig(\"results/OpenMLClassification/OpenMLCls_critical_difference.png\", bbox_inches='tight')"
   ]
  },
  {
   "cell_type": "code",
   "execution_count": 17,
   "metadata": {},
   "outputs": [
    {
     "name": "stdout",
     "output_type": "stream",
     "text": [
      "\\begin{table}[t]\n",
      "\\caption{Average test accuracies and fit times on the OpenML classification tasks.}\n",
      "\\label{tab:openml-classification}\n",
      "\\vskip 0.15in\n",
      "\\begin{center}\n",
      "\\begin{small}\n",
      "\\begin{sc}\n",
      "\\begin{tabular}{lcc}\n",
      "\\toprule\n",
      "Model & Acc & Fit Time (s) \\\\\n",
      "\\midrule\n",
      "RFRBoost & 0.854 & 2.006 \\\\\n",
      "XGBoost & 0.852 & 3.695 \\\\\n",
      "E2E MLP ResNet & 0.850 & 30.518 \\\\\n",
      "RFNN & 0.845 & 1.022 \\\\\n",
      "Logistic Regression & 0.821 & 0.134 \\\\\n",
      "\\bottomrule\n",
      "\\end{tabular}\n",
      "\\end{sc}\n",
      "\\end{small}\n",
      "\\end{center}\n",
      "\\vskip -0.1in\n",
      "\\end{table}\n",
      "\n"
     ]
    }
   ],
   "source": [
    "import pandas as pd\n",
    "import numpy as np\n",
    "\n",
    "def create_latex_table(\n",
    "        df_scores: pd.DataFrame, \n",
    "        df_t_fit: pd.DataFrame, \n",
    "        decimals: int = 3, \n",
    "        include_std: bool = False) -> str:\n",
    "    table = \"\"\"\\\\begin{table}[t]\n",
    "\\\\caption{Average test accuracies and fit times on the OpenML classification tasks.}\n",
    "\\\\label{tab:openml-classification}\n",
    "\\\\vskip 0.15in\n",
    "\\\\begin{center}\n",
    "\\\\begin{small}\n",
    "\\\\begin{sc}\n",
    "\\\\begin{tabular}{lcc}\n",
    "\\\\toprule\n",
    "Model & Acc & Fit Time (s) \\\\\\\\\n",
    "\\\\midrule\n",
    "\"\"\"\n",
    "    # Calculate means and stds\n",
    "    score_means = df_scores.mean()\n",
    "    score_stds = df_scores.std()\n",
    "    time_means = df_t_fit.mean()\n",
    "    time_stds = df_t_fit.std()\n",
    "    \n",
    "    # Create sorted index based on scores\n",
    "    sorted_idx = score_means.sort_values(ascending=False).index\n",
    "    \n",
    "    # Create formatted rows\n",
    "    for model in sorted_idx:\n",
    "        if include_std:\n",
    "            score_str = f\"{score_means[model]:.{decimals}f} ({score_stds[model]:.{decimals}f})\"\n",
    "            time_str = f\"{time_means[model]:.{decimals}f} ({time_stds[model]:.{decimals}f})\"\n",
    "        else:\n",
    "            score_str = f\"{score_means[model]:.{decimals}f}\"\n",
    "            time_str = f\"{time_means[model]:.{decimals}f}\"\n",
    "        table += f\"{model} & {score_str} & {time_str} \\\\\\\\\\n\"\n",
    "    \n",
    "    table += \"\"\"\\\\bottomrule\n",
    "\\\\end{tabular}\n",
    "\\\\end{sc}\n",
    "\\\\end{small}\n",
    "\\\\end{center}\n",
    "\\\\vskip -0.1in\n",
    "\\\\end{table}\n",
    "\"\"\"\n",
    "    return table\n",
    "\n",
    "\n",
    "#usage\n",
    "latex_table = create_latex_table(-df_renamed[\"score_test\"], df_renamed[\"t_fit\"])\n",
    "print(latex_table)"
   ]
  }
 ],
 "metadata": {
  "kernelspec": {
   "display_name": "Python 3",
   "language": "python",
   "name": "python3"
  },
  "language_info": {
   "codemirror_mode": {
    "name": "ipython",
    "version": 3
   },
   "file_extension": ".py",
   "mimetype": "text/x-python",
   "name": "python",
   "nbconvert_exporter": "python",
   "pygments_lexer": "ipython3",
   "version": "3.10.14"
  }
 },
 "nbformat": 4,
 "nbformat_minor": 2
}
