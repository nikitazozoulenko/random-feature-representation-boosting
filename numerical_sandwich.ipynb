{
 "cells": [
  {
   "cell_type": "code",
   "execution_count": 2,
   "metadata": {
    "metadata": {}
   },
   "outputs": [],
   "source": [
    "from typing import Tuple, List, Union, Any, Optional, Dict, Literal, Callable\n",
    "import time\n",
    "\n",
    "from tqdm import tqdm\n",
    "import numpy as np\n",
    "import torch\n",
    "import torch.nn as nn\n",
    "from torch import Tensor, tensor\n",
    "from scipy.optimize import minimize\n",
    "\n",
    "from models.sandwiched_least_squares import sandwiched_LS_scalar, sandwiched_LS_diag, sandwiched_LS_dense"
   ]
  },
  {
   "cell_type": "markdown",
   "metadata": {},
   "source": [
    "# Scalar case\n",
    "\n",
    "Let $R \\in R^{n \\times d}, W\\in R^{D\\times d}, \\Delta \\in R,$ and $X \\in R^{n \\times D}$. Let $\\lambda > 0$. Then the minimum of \n",
    "\\begin{align*}\n",
    "    J(\\Delta) = \\frac{1}{n} \\sum_{i=1}^n \\big\\| R_i - W^\\top\\Delta X_i \\big\\|^2 + \\lambda \\Delta^2\n",
    "\\end{align*}\n",
    "is uniquely attained by\n",
    "\\begin{align*}\n",
    "    \\Delta_{\\textnormal{scalar}} \n",
    "    &= \\frac{\\langle R, XW^\\top\\rangle_F}{\\|X W\\|_F^2 + n\\lambda} \n",
    "    = \\frac{\\frac{1}{n}\\sum_{i=1}^n \\langle W^\\top X_i,  R_i\\rangle}{\\frac{1}{n}\\sum_{i=1}^n \\|W^\\top X_i\\|^2 + \\lambda }.\n",
    "\\end{align*}"
   ]
  },
  {
   "cell_type": "code",
   "execution_count": 3,
   "metadata": {},
   "outputs": [],
   "source": [
    "# Parameters\n",
    "d = 200\n",
    "D = 300\n",
    "N = 100\n",
    "l2_reg = 10\n",
    "\n",
    "# Create dummy data\n",
    "np.random.seed(0)\n",
    "r = np.random.randn(N, d)+2\n",
    "W = np.random.randn(D, d)/100\n",
    "x = np.random.randn(N, D)-1\n",
    "\n",
    "def J(Delta):\n",
    "    Wx = W.T @ x.T\n",
    "    residual = r - Wx.T * Delta\n",
    "    return np.mean(np.linalg.norm(residual, axis=1)**2) + l2_reg * Delta**2\n",
    "\n",
    "def J_byhand(Delta):\n",
    "    res = 0\n",
    "    for i in range(N):\n",
    "        res += np.linalg.norm(r[i] - W.T @ x[i] * Delta)**2 / N\n",
    "    return res + l2_reg * Delta**2"
   ]
  },
  {
   "cell_type": "code",
   "execution_count": 4,
   "metadata": {},
   "outputs": [
    {
     "name": "stdout",
     "output_type": "stream",
     "text": [
      "Closed form solution for Delta: 0.09612819692159835\n",
      "Objective value for closed form solution: 993.0117548905527\n",
      "Objective value for closed form solution (by hand): 993.0117548905528\n"
     ]
    }
   ],
   "source": [
    "# Closed form solution\n",
    "Delta_closed_form = sandwiched_LS_scalar(tensor(r), tensor(W), tensor(x), l2_reg).numpy()\n",
    "\n",
    "print(f\"Closed form solution for Delta: {Delta_closed_form}\")\n",
    "print(f\"Objective value for closed form solution: {J(Delta_closed_form)}\")\n",
    "print(f\"Objective value for closed form solution (by hand): {J_byhand(Delta_closed_form)}\")"
   ]
  },
  {
   "cell_type": "code",
   "execution_count": 5,
   "metadata": {},
   "outputs": [
    {
     "name": "stdout",
     "output_type": "stream",
     "text": [
      "Gradient descent solution for Delta using scipy.optimize: 0.09612803569713149\n",
      "Objective value for gradient descent solution: 993.0117548905532\n",
      "Objective value for closed form solution (by hand): 993.0117548905529\n"
     ]
    }
   ],
   "source": [
    "# Gradient descent solution using scipy.optimiz\n",
    "result = minimize(J, np.random.randn(), method='BFGS')\n",
    "Delta = result.x[0]\n",
    "print(f\"Gradient descent solution for Delta using scipy.optimize: {Delta}\")\n",
    "print(f\"Objective value for gradient descent solution: {J(Delta)}\")\n",
    "print(f\"Objective value for closed form solution (by hand): {J_byhand(Delta)}\")"
   ]
  },
  {
   "cell_type": "markdown",
   "metadata": {},
   "source": [
    "# Diagonal Case\n",
    "\n",
    "Let $R \\in R^{n \\times d}, W\\in R^{D\\times d}, \\Delta = \\textnormal{diag}(\\delta_1, ..., \\delta_D) \\in R^{D \\times D},$ and $X \\in R^{n \\times D}$. Let $\\lambda > 0$. Then the minimum of \n",
    "\\begin{align*}\n",
    "    J(\\Delta) = \\frac{1}{n} \\sum_{i=1}^n \\big\\| R_i - W^\\top\\Delta X_i \\big\\|^2 + \\lambda \\Delta^2\n",
    "\\end{align*}\n",
    "is uniquely attained by the solution to the system of linear equations\n",
    "\\begin{align*}\n",
    "    b = (A+ \\lambda I)\\Delta\n",
    "\\end{align*}\n",
    "where\n",
    "\\begin{align*}\n",
    "    A = W W^\\top \\odot X^\\top X,  \\qquad \\qquad b = \\textnormal{diag}(W^\\top R^\\top X).\n",
    "\\end{align*}\n"
   ]
  },
  {
   "cell_type": "code",
   "execution_count": 6,
   "metadata": {},
   "outputs": [],
   "source": [
    "# Parameters\n",
    "d = 30\n",
    "D = 20\n",
    "N = 1000\n",
    "l2_reg = 10\n",
    "\n",
    "# Create dummy data\n",
    "np.random.seed(0)\n",
    "r = np.random.randn(N, d)\n",
    "W = np.random.randn(D, d)\n",
    "x = np.random.randn(N, D)\n",
    "\n",
    "def A_byhand():\n",
    "    A = np.zeros((D, D))\n",
    "    for k in range(D):\n",
    "        for j in range(D):\n",
    "            A[k, j] = np.mean([ x[i, k] * x[i, j] * np.dot(W[k], W[j]) for i in range(N)])\n",
    "    return A\n",
    "\n",
    "\n",
    "def A():\n",
    "    return (W @ W.T) * (x.T @ x) / N\n",
    "\n",
    "def b_byhand():\n",
    "    b = np.zeros(D)\n",
    "    for k in range(D):\n",
    "        b[k] = np.mean([ x[i, k] * np.dot(W[k], r[i]) for i in range(N)])\n",
    "    return b\n",
    "\n",
    "\n",
    "def b():\n",
    "    return np.mean( (r @ W.T) * x, axis=0)\n",
    "    #return np.diag(W @ r.T @ x) / N\n",
    "    #return np.einsum('nd,kd,nk->k', r, W, x) / N"
   ]
  },
  {
   "cell_type": "code",
   "execution_count": 7,
   "metadata": {},
   "outputs": [
    {
     "data": {
      "text/plain": [
       "-2.0510801173809213e-17"
      ]
     },
     "execution_count": 7,
     "metadata": {},
     "output_type": "execute_result"
    }
   ],
   "source": [
    "(A() - A_byhand()).mean()"
   ]
  },
  {
   "cell_type": "code",
   "execution_count": 8,
   "metadata": {},
   "outputs": [
    {
     "data": {
      "text/plain": [
       "2.4134340359527328e-17"
      ]
     },
     "execution_count": 8,
     "metadata": {},
     "output_type": "execute_result"
    }
   ],
   "source": [
    "(b() - b_byhand()).mean()"
   ]
  },
  {
   "cell_type": "code",
   "execution_count": 9,
   "metadata": {},
   "outputs": [],
   "source": [
    "def J(Delta):\n",
    "    return np.mean(np.linalg.norm(r - x @ np.diag(Delta) @ W, axis=1)**2) + l2_reg * np.linalg.norm(Delta)**2\n",
    "\n",
    "def J_byhand(Delta):\n",
    "    res = 0\n",
    "    for i in range(N):\n",
    "        res += np.linalg.norm(r[i] - W.T @ (Delta*x[i]))**2 / N\n",
    "    return res + l2_reg * np.sum(Delta**2)"
   ]
  },
  {
   "cell_type": "code",
   "execution_count": 10,
   "metadata": {},
   "outputs": [
    {
     "name": "stdout",
     "output_type": "stream",
     "text": [
      "Closed form solution for Delta: [ 1.15952169e-03  5.00119337e-03  8.21619145e-03  1.07988685e-02\n",
      " -2.68865051e-03  4.19528345e-03 -4.25148869e-03  5.80865727e-04\n",
      "  4.97751029e-03 -7.35732222e-03  2.18509303e-06 -6.20406520e-03\n",
      "  3.83358855e-03  8.42855673e-04 -5.64821215e-03  6.42419030e-03\n",
      "  3.03962442e-03  1.63056427e-03  5.86754698e-03  7.41961758e-03]\n",
      "Objective value for closed form solution: 29.54087641951766\n",
      "Objective value for closed form solution (by hand): 29.540876419517648\n"
     ]
    }
   ],
   "source": [
    "Delta_closed_form = sandwiched_LS_diag(tensor(r), tensor(W), tensor(x), l2_reg).numpy()\n",
    "print(f\"Closed form solution for Delta: {Delta_closed_form}\")\n",
    "print(f\"Objective value for closed form solution: {J(Delta_closed_form)}\")\n",
    "print(f\"Objective value for closed form solution (by hand): {J_byhand(Delta_closed_form)}\")"
   ]
  },
  {
   "cell_type": "code",
   "execution_count": 11,
   "metadata": {},
   "outputs": [
    {
     "name": "stdout",
     "output_type": "stream",
     "text": [
      "Gradient descent using scipy.optimize: [ 1.15952293e-03  5.00119841e-03  8.21620435e-03  1.07988851e-02\n",
      " -2.68865000e-03  4.19529645e-03 -4.25149147e-03  5.80868866e-04\n",
      "  4.97750987e-03 -7.35732630e-03  2.19717982e-06 -6.20406044e-03\n",
      "  3.83358796e-03  8.42863595e-04 -5.64819249e-03  6.42419110e-03\n",
      "  3.03962480e-03  1.63057012e-03  5.86755304e-03  7.41962085e-03]\n",
      "Objective value for gradient descent solution: 29.540876419517705\n",
      "Objective value for closed form solution (by hand): 29.54087641951767\n"
     ]
    }
   ],
   "source": [
    "# Gradient descent solution using scipy.optimiz\n",
    "result = minimize(J, np.random.randn(D), method='BFGS')\n",
    "Delta = result.x\n",
    "print(f\"Gradient descent using scipy.optimize: {Delta}\")\n",
    "print(f\"Objective value for gradient descent solution: {J(Delta)}\")\n",
    "print(f\"Objective value for closed form solution (by hand): {J_byhand(Delta)}\")"
   ]
  },
  {
   "cell_type": "markdown",
   "metadata": {},
   "source": [
    "# Dense Case\n",
    "\n",
    "Let $R \\in R^{n \\times d}, W\\in R^{D\\times d}, \\Delta = \\in R^{D \\times D},$ and $X \\in R^{n \\times D}$. Let $\\lambda > 0$. Then the minimum of \n",
    "\\begin{align*}\n",
    "    J(\\Delta) \n",
    "        &= \\frac{1}{n} \\sum_{i=1}^n \\big\\| r_i - W^\\top \\Delta x_i \\big\\|^2 + \\sum_{k=1}^D\\sum_{j=1}^p \\lambda \\Delta_{k,j}^2 \\\\\n",
    "        &= \\frac{1}{n}\\| W^\\top \\Delta X^\\top - R^\\top\\|^2_F + \\lambda \\|\\Delta\\|^2_F\n",
    "\\end{align*}\n",
    "is uniquely obtained by solving the system of linear equations given by\n",
    "\\begin{align*} \n",
    "    W R^\\top X    =  W W^\\top \\Delta X^\\top X + \\lambda n \\Delta\n",
    "\\end{align*}\n",
    "which can be solved by spectral decomposition $W W^\\top = U \\Lambda^W U^\\top$  and $X^\\top X = V \\Lambda^X V^\\top$\n",
    "\\begin{align*}\n",
    "    \\Delta_{\\textnormal{dense}} = U \\bigg[ U^\\top W R^\\top X V \\oslash \\bigg(\\lambda N 1 + \\textnormal{diag}(\\Lambda^W) \\otimes \\textnormal{diag}(\\Lambda^X)\\bigg) \\bigg] V^\\top\n",
    "\\end{align*}\n",
    "where $\\oslash$ denotes element-wise division, $\\otimes$ is the outer product, and $1$ is a matrix of ones.\n"
   ]
  },
  {
   "cell_type": "code",
   "execution_count": 12,
   "metadata": {},
   "outputs": [],
   "source": [
    "# Parameters\n",
    "d = 1\n",
    "D = 50\n",
    "p = 32\n",
    "N = 580\n",
    "l2_reg = 1\n",
    "\n",
    "# Create dummy data\n",
    "np.random.seed(0)\n",
    "r = np.random.randn(N, d)\n",
    "W = np.random.randn(D, d)\n",
    "x = np.random.randn(N, p)\n",
    "\n",
    "def J(Delta):\n",
    "    Delta = Delta.reshape(D, p)\n",
    "    return 1/N * np.linalg.norm(W.T @ Delta @ x.T - r.T)**2 + l2_reg * np.linalg.norm(Delta)**2\n",
    "\n",
    "def J_byhand(Delta):\n",
    "    Delta = Delta.reshape(D, p)\n",
    "    res = 0\n",
    "    for i in range(N):\n",
    "        res += 1/N * np.linalg.norm(r[i] - W.T @ Delta @ x[i])**2\n",
    "    return res + l2_reg * np.linalg.norm(Delta)**2"
   ]
  },
  {
   "cell_type": "code",
   "execution_count": 13,
   "metadata": {},
   "outputs": [
    {
     "name": "stdout",
     "output_type": "stream",
     "text": [
      "Closed form solution for Delta: [[ 5.85719218e-03  2.78400422e-04  1.54524397e-03 ... -4.94987842e-03\n",
      "   3.42207227e-03 -2.37605450e-03]\n",
      " [ 1.98027695e-03  9.41252945e-05  5.22436507e-04 ... -1.67352032e-03\n",
      "   1.15697942e-03 -8.03327912e-04]\n",
      " [ 3.42044677e-03  1.62578552e-04  9.02381991e-04 ... -2.89059930e-03\n",
      "   1.99840054e-03 -1.38755357e-03]\n",
      " ...\n",
      " [-5.01435285e-03 -2.38339106e-04 -1.32288617e-03 ...  4.23759989e-03\n",
      "  -2.92964228e-03  2.03414457e-03]\n",
      " [ 1.68450250e-04  8.00667267e-06  4.44405314e-05 ... -1.42356308e-04\n",
      "   9.84172809e-05 -6.83342737e-05]\n",
      " [ 4.15639125e-06  1.97559008e-07  1.09653880e-06 ... -3.51254162e-06\n",
      "   2.42837707e-06 -1.68610006e-06]]\n",
      "Objective value for closed form solution: 0.9296631579761029\n",
      "Objective value for closed form solution (by hand): 0.9296631579761025\n"
     ]
    }
   ],
   "source": [
    "Delta_closed_form = sandwiched_LS_dense(tensor(r), tensor(W), tensor(x), l2_reg).numpy().T\n",
    "print(f\"Closed form solution for Delta: {Delta_closed_form}\")\n",
    "print(f\"Objective value for closed form solution: {J(Delta_closed_form)}\")\n",
    "print(f\"Objective value for closed form solution (by hand): {J_byhand(Delta_closed_form)}\")"
   ]
  },
  {
   "cell_type": "code",
   "execution_count": 14,
   "metadata": {},
   "outputs": [
    {
     "name": "stdout",
     "output_type": "stream",
     "text": [
      "Gradient descent using scipy.optimize: [[ 3.37657341e-03 -1.48755275e-02  6.04864018e-03 ... -2.00358005e-03\n",
      "  -6.06036322e-03  1.12083516e-03]\n",
      " [-2.38244615e-03 -1.14232819e-03  2.64100799e-03 ...  3.17689474e-03\n",
      "  -6.04505585e-03  9.90609670e-03]\n",
      " [-1.50974050e-03  5.25279750e-04  7.58244262e-04 ... -7.17733265e-03\n",
      "   6.60728887e-03  1.24773226e-03]\n",
      " ...\n",
      " [ 2.99523361e-03  5.71247270e-03 -7.71314043e-03 ... -5.08256297e-03\n",
      "   6.48235939e-03 -5.29856845e-03]\n",
      " [-8.70684015e-03 -5.38169108e-04 -2.83993818e-03 ...  3.35660291e-04\n",
      "  -6.07510129e-03 -1.28800332e-03]\n",
      " [ 4.84270412e-03 -7.48291764e-05  2.20716704e-03 ... -2.60049527e-03\n",
      "   3.12339094e-03  4.60210622e-03]]\n",
      "Objective value for gradient descent solution: 1.12261730690974\n",
      "Objective value for closed form solution (by hand): 1.1226173069097403\n"
     ]
    }
   ],
   "source": [
    "# Gradient descent solution using scipy.optimiz\n",
    "result = minimize(J, np.random.randn(p*D), method='L-BFGS-B')\n",
    "Delta = result.x.reshape(p, D)\n",
    "print(f\"Gradient descent using scipy.optimize: {Delta}\")\n",
    "print(f\"Objective value for gradient descent solution: {J(Delta)}\")\n",
    "print(f\"Objective value for closed form solution (by hand): {J_byhand(Delta)}\")"
   ]
  },
  {
   "cell_type": "code",
   "execution_count": 17,
   "metadata": {},
   "outputs": [
    {
     "name": "stdout",
     "output_type": "stream",
     "text": [
      "Gradient descent using scipy.optimize: [[ 5.85719218e-03  2.78400422e-04  1.54524397e-03 ... -6.71332710e-04\n",
      "  -6.62552536e-04 -1.10453422e-03]\n",
      " [ 3.48522001e-04 -1.07588491e-04  7.16628546e-04 ... -1.11964364e-04\n",
      "  -6.21451136e-04 -1.83845373e-04]\n",
      " [ 2.97326670e-04  7.33403369e-04 -6.82568355e-04 ... -9.03744256e-05\n",
      "   6.01968602e-04  2.70095574e-05]\n",
      " ...\n",
      " [-1.43097679e-03 -1.50741387e-03 -2.57549853e-04 ...  1.32616274e-04\n",
      "   2.62790243e-04 -2.16146403e-04]\n",
      " [-1.73638362e-04  4.64957905e-04 -3.21446188e-04 ... -6.90066518e-05\n",
      "  -1.17901615e-05 -1.96615662e-05]\n",
      " [-5.46800876e-05 -5.71062358e-05 -5.63593592e-05 ... -3.51254162e-06\n",
      "   2.42837707e-06 -1.68610006e-06]]\n",
      "Objective value for gradient descent solution: 0.9296631579761029\n",
      "Objective value for closed form solution (by hand): 0.9296631579761025\n"
     ]
    }
   ],
   "source": [
    "# Gradient descent solution using scipy.optimiz\n",
    "result = minimize(J, Delta_closed_form.reshape(p*D), method='L-BFGS-B')\n",
    "Delta = result.x.reshape(p, D)\n",
    "print(f\"Gradient descent using scipy.optimize: {Delta}\")\n",
    "print(f\"Objective value for gradient descent solution: {J(Delta)}\")\n",
    "print(f\"Objective value for closed form solution (by hand): {J_byhand(Delta)}\")"
   ]
  }
 ],
 "metadata": {
  "kernelspec": {
   "display_name": "Python 3",
   "language": "python",
   "name": "python3"
  },
  "language_info": {
   "codemirror_mode": {
    "name": "ipython",
    "version": 3
   },
   "file_extension": ".py",
   "mimetype": "text/x-python",
   "name": "python",
   "nbconvert_exporter": "python",
   "pygments_lexer": "ipython3",
   "version": "3.10.14"
  }
 },
 "nbformat": 4,
 "nbformat_minor": 2
}
