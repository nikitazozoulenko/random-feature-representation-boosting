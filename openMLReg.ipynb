{
 "cells": [
  {
   "cell_type": "code",
   "execution_count": 6,
   "metadata": {
    "metadata": {}
   },
   "outputs": [],
   "source": [
    "from typing import Tuple, List, Union, Any, Optional, Dict, Literal, Callable\n",
    "import time\n",
    "import collections\n",
    "import os\n",
    "import sys\n",
    "sys.path.append(os.path.dirname(os.getcwd()))\n",
    "sys.path.append(os.path.dirname(os.path.dirname(os.getcwd())))\n",
    "\n",
    "from tqdm import tqdm\n",
    "import numpy as np\n",
    "import torch\n",
    "import torch.nn as nn\n",
    "from torch import Tensor, tensor\n",
    "import pandas as pd\n",
    "import openml\n",
    "\n",
    "from optuna_kfoldCV import evaluate_dataset_with_model, run_all_openML_with_model\n",
    "from regression_param_specs import evaluate_Ridge, evaluate_XGBoostRegressor\n",
    "\n",
    "np.set_printoptions(precision=3, threshold=5) # Print options"
   ]
  },
  {
   "cell_type": "markdown",
   "metadata": {},
   "source": [
    "# How to run an experiment"
   ]
  },
  {
   "cell_type": "code",
   "execution_count": 7,
   "metadata": {},
   "outputs": [],
   "source": [
    "# !python regression_param_specs.py \\\n",
    "#     --models Ridge \\\n",
    "#     --dataset_indices 0 1 2 \\\n",
    "#     --save_dir /home/USERNAME/Code/RFRBoost-sup-mat/save/OpenMLRegression/ \\\n",
    "#     --n_optuna_trials 100 \\\n",
    "#     --device cpu \\\n",
    "#     --k_folds 5 \\\n",
    "#     --cv_seed 42"
   ]
  },
  {
   "cell_type": "markdown",
   "metadata": {},
   "source": [
    "# join json results"
   ]
  },
  {
   "cell_type": "code",
   "execution_count": 8,
   "metadata": {},
   "outputs": [],
   "source": [
    "import json\n",
    "import os\n",
    "import numpy as np\n",
    "import pandas as pd\n",
    "\n",
    "from optuna_kfoldCV import openML_reg_ids\n",
    "\n",
    "\n",
    "def read_json(path):\n",
    "    with open(path, \"r\") as f:\n",
    "        return json.load(f)\n",
    "    \n",
    "\n",
    "\n",
    "def custom_deep_update(original, update):\n",
    "    for key, value in update.items():\n",
    "        if isinstance(value, dict) and key in original:\n",
    "            custom_deep_update(original[key], value)\n",
    "        else:\n",
    "            original[key] = value\n",
    "\n",
    "\n",
    "\n",
    "def get_joined_results_json(\n",
    "        models: List[str],\n",
    "        datasets = openML_reg_ids,\n",
    "        save_dir = \"/home/USERNAME/Code/RFRBoost-sup-mat/save/OpenMLRegression/\",\n",
    "        ):\n",
    "    results_json = {}\n",
    "    for model in models:\n",
    "        for dataset in datasets:\n",
    "            path = os.path.join(save_dir, f\"regression_{dataset}_{model}.json\")\n",
    "            #print(path)\n",
    "            res = read_json(path)\n",
    "            if results_json == {}:\n",
    "                results_json = res\n",
    "            else:\n",
    "                custom_deep_update(results_json, res)\n",
    "    return results_json\n",
    "\n",
    "\n",
    "\n",
    "def join_jsons_into_array(\n",
    "        results_json,\n",
    "        ):\n",
    "    results = []\n",
    "    for dataset, dataset_results in results_json.items():\n",
    "        res = []\n",
    "        for model_name, model_results in dataset_results.items():\n",
    "            model_res = np.stack([model_results[\"score_train\"], model_results[\"score_test\"], model_results[\"t_fit\"], model_results[\"t_inference\"]])\n",
    "            res.append(model_res)\n",
    "        results.append(res)\n",
    "    return np.stack(results) # (n_datasets, n_models, 4, n_folds)\n",
    "\n",
    "\n",
    "def results_to_df(\n",
    "        models: List[str],\n",
    "        datasets = openML_reg_ids[:],\n",
    "        save_dir = \"/home/USERNAME/Code/RFRBoost-sup-mat/save/OpenMLRegression/\",\n",
    "        ):\n",
    "    # Load and join the JSON data\n",
    "    results_json = get_joined_results_json(models, datasets, save_dir)\n",
    "    results = join_jsons_into_array(results_json) # (n_datasets, n_models, 4, n_folds)\n",
    "    \n",
    "    # Calculate means and stds across folds\n",
    "    results_mean = np.mean(results, axis=-1)  # (n_datasets, n_models, 4)\n",
    "    results_std = np.std(results, axis=-1)    # (n_datasets, n_models, 4)\n",
    "    \n",
    "    # Create a dictionary to hold both mean and std DataFrames\n",
    "    metrics = [\"score_train\", \"score_test\", \"t_fit\", \"t_inference\"]\n",
    "    metric_dfs = {}\n",
    "    \n",
    "    # Initialize DataFrames for both mean and std metrics\n",
    "    for metric in metrics:\n",
    "        metric_dfs[metric] = pd.DataFrame(index=datasets, columns=models)\n",
    "        metric_dfs[f\"{metric}_std\"] = pd.DataFrame(index=datasets, columns=models)\n",
    "    \n",
    "    # Populate the DataFrames for each metric\n",
    "    for dataset_idx, dataset in enumerate(datasets):\n",
    "        for model_idx, model in enumerate(models):\n",
    "            for metric_idx, metric in enumerate(metrics):\n",
    "                # Set mean value\n",
    "                metric_dfs[metric].loc[dataset, model] = results_mean[dataset_idx, model_idx, metric_idx]\n",
    "                # Set* std value\n",
    "                metric_dfs[f\"{metric}_std\"].loc[dataset, model] = results_std[dataset_idx, model_idx, metric_idx]\n",
    "    \n",
    "    return metric_dfs\n"
   ]
  },
  {
   "cell_type": "code",
   "execution_count": 12,
   "metadata": {},
   "outputs": [],
   "source": [
    "models = [\n",
    "    \"End2End_cpu\",\n",
    "    \"Ridge\",\n",
    "    \"XGBoostRegressor\",\n",
    "    \"RFNN\",\n",
    "    \"GreedyRFRBoostDiag_batchnormFalse\",\n",
    "    \"GreedyRFRBoostScalar_batchnormFalse\",\n",
    "    \"GradientRFRBoost_ID_batchnormFalse\",\n",
    "    \"GreedyRFRBoostDense_ID_batchnormFalse\",\n",
    "]\n",
    "save_dir = \"/home/USERNAME/Code/RFRBoost-sup-mat/save/OpenMLRegression/\""
   ]
  },
  {
   "cell_type": "code",
   "execution_count": 10,
   "metadata": {},
   "outputs": [],
   "source": [
    "df = results_to_df(        \n",
    "    models = models,\n",
    "    datasets = openML_reg_ids[[i for i in range(len(openML_reg_ids)) if i not in []]],\n",
    "    save_dir=save_dir,\n",
    "    )\n"
   ]
  },
  {
   "cell_type": "code",
   "execution_count": 11,
   "metadata": {},
   "outputs": [
    {
     "data": {
      "text/plain": [
       "XGBoostRegressor                          0.39544\n",
       "GradientRFRBoost_ID_batchnormFalse       0.408568\n",
       "GreedyRFRBoostDense_ID_batchnormFalse    0.409401\n",
       "GreedyRFRBoostDiag_batchnormFalse        0.415229\n",
       "End2End_cpu                              0.416709\n",
       "GreedyRFRBoostScalar_batchnormFalse      0.433258\n",
       "RFNN                                     0.433955\n",
       "Ridge                                    0.539519\n",
       "dtype: object"
      ]
     },
     "execution_count": 11,
     "metadata": {},
     "output_type": "execute_result"
    }
   ],
   "source": [
    "df[\"score_test\"].mean().sort_values(ascending=True)"
   ]
  },
  {
   "cell_type": "code",
   "execution_count": 12,
   "metadata": {},
   "outputs": [
    {
     "data": {
      "text/plain": [
       "Ridge                                      0.00095\n",
       "RFNN                                      0.044202\n",
       "GreedyRFRBoostScalar_batchnormFalse       0.638085\n",
       "GreedyRFRBoostDiag_batchnormFalse         0.918357\n",
       "GradientRFRBoost_ID_batchnormFalse        1.748811\n",
       "XGBoostRegressor                          1.872937\n",
       "GreedyRFRBoostDense_ID_batchnormFalse     2.888457\n",
       "End2End_cpu                              38.908994\n",
       "dtype: object"
      ]
     },
     "execution_count": 12,
     "metadata": {},
     "output_type": "execute_result"
    }
   ],
   "source": [
    "df[\"t_fit\"].mean().sort_values(ascending=True)"
   ]
  },
  {
   "cell_type": "code",
   "execution_count": 13,
   "metadata": {},
   "outputs": [
    {
     "data": {
      "text/plain": [
       "GradientRFRBoost_ID_batchnormFalse       2.558824\n",
       "GreedyRFRBoostDense_ID_batchnormFalse    2.852941\n",
       "XGBoostRegressor                         3.205882\n",
       "GreedyRFRBoostDiag_batchnormFalse        4.117647\n",
       "End2End_cpu                              4.882353\n",
       "GreedyRFRBoostScalar_batchnormFalse      5.558824\n",
       "RFNN                                     5.647059\n",
       "Ridge                                    7.176471\n",
       "dtype: float64"
      ]
     },
     "execution_count": 13,
     "metadata": {},
     "output_type": "execute_result"
    }
   ],
   "source": [
    "df[\"score_test\"].rank(axis=1).mean().sort_values()"
   ]
  },
  {
   "cell_type": "markdown",
   "metadata": {},
   "source": [
    "# Print results"
   ]
  },
  {
   "cell_type": "code",
   "execution_count": 14,
   "metadata": {},
   "outputs": [
    {
     "name": "stdout",
     "output_type": "stream",
     "text": [
      "Index(['End2End_cpu', 'Ridge', 'XGBoostRegressor', 'RFNN',\n",
      "       'GreedyRFRBoostDiag_batchnormFalse',\n",
      "       'GreedyRFRBoostScalar_batchnormFalse',\n",
      "       'GradientRFRBoost_ID_batchnormFalse',\n",
      "       'GreedyRFRBoostDense_ID_batchnormFalse'],\n",
      "      dtype='object')\n",
      "Index(['E2E MLP ResNet', 'Ridge Regression', 'XGBoost', 'RFNN',\n",
      "       'Greedy RFRBoost $\\Delta_{diag}$', 'Greedy RFRBoost $\\Delta_{scalar}$',\n",
      "       'Gradient RFRBoost', 'Greedy RFRBoost $\\Delta_{dense}$'],\n",
      "      dtype='object')\n"
     ]
    }
   ],
   "source": [
    "df_renamed = {k:v for k,v in df.items()}\n",
    "print(df_renamed[\"score_test\"].columns)\n",
    "for key in df_renamed.keys():\n",
    "    df_renamed[key] = df_renamed[key].rename(columns={\n",
    "        \"End2End_cpu\": \"E2E MLP ResNet\",\n",
    "        \"Ridge\": \"Ridge Regression\",\n",
    "        \"XGBoostRegressor\": \"XGBoost\",\n",
    "        \"RFNN\": \"RFNN\",\n",
    "        \"GreedyRFRBoostScalar_batchnormFalse\": \"Greedy RFRBoost $\\Delta_{scalar}$\",\n",
    "        \"GreedyRFRBoostDiag_batchnormFalse\": \"Greedy RFRBoost $\\Delta_{diag}$\",\n",
    "        \"GreedyRFRBoostDense_ID_batchnormFalse\": \"Greedy RFRBoost $\\Delta_{dense}$\",\n",
    "        \"GradientRFRBoost_ID_batchnormFalse\": \"Gradient RFRBoost\",\n",
    "        })\n",
    "print(df_renamed[\"score_test\"].columns)"
   ]
  },
  {
   "cell_type": "code",
   "execution_count": 15,
   "metadata": {},
   "outputs": [
    {
     "name": "stderr",
     "output_type": "stream",
     "text": [
      "/tmp/ipykernel_8295/3858347232.py:22: UserWarning: This figure includes Axes that are not compatible with tight_layout, so results might be incorrect.\n",
      "  fig.tight_layout()\n"
     ]
    },
    {
     "data": {
      "image/png": "[encoded data removed]",
      "text/plain": [
       "<Figure size 600x300 with 1 Axes>"
      ]
     },
     "metadata": {},
     "output_type": "display_data"
    }
   ],
   "source": [
    "from aeon.visualisation import plot_critical_difference, plot_significance\n",
    "import matplotlib.pyplot as plt\n",
    "\n",
    "# Generate the plot\n",
    "plot = plot_critical_difference(df_renamed[\"score_test\"].values,\n",
    "                                df_renamed[\"score_test\"].columns.tolist(), \n",
    "                                alpha=0.10, \n",
    "                                lower_better=True,\n",
    "                                digits=2,\n",
    "                                width=7, #default 6\n",
    "                                textspace=2.0, #default 1.5\n",
    "                                )\n",
    "\n",
    "# Retrieve the figure and axes from the plot\n",
    "fig = plot[0].figure\n",
    "ax = plot[0]\n",
    "\n",
    "# Adjust figure size\n",
    "fig.set_size_inches(6, 3)\n",
    "\n",
    "# Adjust layout\n",
    "fig.tight_layout()\n",
    "\n",
    "# Save the figures\n",
    "plot[0].savefig(\"results/OpenMLRegression/OpenMLReg_critical_difference.eps\", bbox_inches='tight')\n",
    "plot[0].savefig(\"results/OpenMLRegression/OpenMLReg_critical_difference.png\", bbox_inches='tight')"
   ]
  },
  {
   "cell_type": "code",
   "execution_count": 24,
   "metadata": {},
   "outputs": [
    {
     "name": "stdout",
     "output_type": "stream",
     "text": [
      "\\begin{table}[t]\n",
      "\\caption{Average test RMSE and fit times on the OpenML regression tasks.}\n",
      "\\label{tab:openml-regression}\n",
      "\\vskip 0.15in\n",
      "\\begin{center}\n",
      "\\begin{small}\n",
      "\\begin{sc}\n",
      "\\begin{tabular}{lcc}\n",
      "\\toprule\n",
      "Model & RMSE & Fit Time (s) \\\\\n",
      "\\midrule\n",
      "XGBoost & 0.395 & 1.873 \\\\\n",
      "Gradient RFRBoost & 0.409 & 1.749 \\\\\n",
      "Greedy RFRBoost $\\Delta_{dense}$ & 0.409 & 2.888 \\\\\n",
      "Greedy RFRBoost $\\Delta_{diag}$ & 0.415 & 0.918 \\\\\n",
      "E2E MLP ResNet & 0.417 & 38.909 \\\\\n",
      "Greedy RFRBoost $\\Delta_{scalar}$ & 0.433 & 0.638 \\\\\n",
      "RFNN & 0.434 & 0.044 \\\\\n",
      "Ridge Regression & 0.540 & 0.001 \\\\\n",
      "\\bottomrule\n",
      "\\end{tabular}\n",
      "\\end{sc}\n",
      "\\end{small}\n",
      "\\end{center}\n",
      "\\vskip -0.1in\n",
      "\\end{table}\n",
      "\n"
     ]
    }
   ],
   "source": [
    "import pandas as pd\n",
    "import numpy as np\n",
    "\n",
    "def create_latex_table(\n",
    "        df_scores: pd.DataFrame, \n",
    "        df_t_fit: pd.DataFrame, \n",
    "        decimals: int = 3, \n",
    "        include_std: bool = False) -> str:\n",
    "    table = \"\"\"\\\\begin{table}[t]\n",
    "\\\\caption{Average test RMSE and fit times on the OpenML regression tasks.}\n",
    "\\\\label{tab:openml-regression}\n",
    "\\\\vskip 0.15in\n",
    "\\\\begin{center}\n",
    "\\\\begin{small}\n",
    "\\\\begin{sc}\n",
    "\\\\begin{tabular}{lcc}\n",
    "\\\\toprule\n",
    "Model & RMSE & Fit Time (s) \\\\\\\\\n",
    "\\\\midrule\n",
    "\"\"\"\n",
    "    # Calculate means and stds\n",
    "    score_means = df_scores.mean()\n",
    "    score_stds = df_scores.std()\n",
    "    time_means = df_t_fit.mean()\n",
    "    time_stds = df_t_fit.std()\n",
    "    \n",
    "    # Create sorted index based on scores\n",
    "    sorted_idx = score_means.sort_values(ascending=True).index\n",
    "    \n",
    "    # Create formatted rows\n",
    "    for model in sorted_idx:\n",
    "        if include_std:\n",
    "            score_str = f\"{score_means[model]:.{decimals}f} ({score_stds[model]:.{decimals}f})\"\n",
    "            time_str = f\"{time_means[model]:.{decimals}f} ({time_stds[model]:.{decimals}f})\"\n",
    "        else:\n",
    "            score_str = f\"{score_means[model]:.{decimals}f}\"\n",
    "            time_str = f\"{time_means[model]:.{decimals}f}\"\n",
    "        table += f\"{model} & {score_str} & {time_str} \\\\\\\\\\n\"\n",
    "    \n",
    "    table += \"\"\"\\\\bottomrule\n",
    "\\\\end{tabular}\n",
    "\\\\end{sc}\n",
    "\\\\end{small}\n",
    "\\\\end{center}\n",
    "\\\\vskip -0.1in\n",
    "\\\\end{table}\n",
    "\"\"\"\n",
    "    return table\n",
    "\n",
    "\n",
    "#usage\n",
    "latex_table = create_latex_table(df_renamed[\"score_test\"], df_renamed[\"t_fit\"])\n",
    "print(latex_table)"
   ]
  },
  {
   "cell_type": "markdown",
   "metadata": {},
   "source": [
    "# Usage example"
   ]
  },
  {
   "cell_type": "code",
   "execution_count": 11,
   "metadata": {},
   "outputs": [
    {
     "name": "stdout",
     "output_type": "stream",
     "text": [
      "GradientRFRBoostRegressor:\n",
      "  Train RMSE: 0.1736\n",
      "  Test RMSE:  0.2599\n",
      "\n",
      "GreedyRFRBoostRegressor:\n",
      "  Train RMSE: 0.1813\n",
      "  Test RMSE:  0.2921\n",
      "\n",
      "Naive (mean) baseline:\n",
      "  Train RMSE: 1.7043\n",
      "  Test RMSE:  1.7306\n"
     ]
    }
   ],
   "source": [
    "import numpy as np\n",
    "import torch\n",
    "from models.random_feature_representation_boosting import GradientRFRBoostRegressor, GreedyRFRBoostRegressor\n",
    "from sklearn.model_selection import train_test_split\n",
    "\n",
    "# Generate toy data\n",
    "seed = 42\n",
    "np.random.seed(seed)\n",
    "torch.manual_seed(seed)\n",
    "n_samples = 2000\n",
    "X = torch.randn(n_samples, 2)\n",
    "y = X[:, 0] + X[:, 1]**2 + 0.1 * torch.randn(n_samples)\n",
    "y = y.unsqueeze(1)  # Reshape y to (n_samples, 1) for regression\n",
    "\n",
    "# Split data into train and test sets\n",
    "X_train, X_test, y_train, y_test = train_test_split(\n",
    "    X, y, test_size=0.2, random_state=seed\n",
    ")\n",
    "\n",
    "# 1. GradientRFRBoostRegressor\n",
    "gradient_rfrboost = GradientRFRBoostRegressor(\n",
    "    in_dim=2,\n",
    "    out_dim=1,\n",
    "    hidden_dim=64,\n",
    "    n_layers=3,\n",
    "    boost_lr=0.5,\n",
    "    feature_type=\"SWIM\",\n",
    "    upscale_type=\"identity\",\n",
    "    l2_reg=0.001,\n",
    "    l2_ghat=0.001\n",
    ")\n",
    "\n",
    "# Train and evaluate\n",
    "gradient_rfrboost.fit(X_train, y_train)\n",
    "y_pred_train_gradient = gradient_rfrboost(X_train)\n",
    "y_pred_test_gradient = gradient_rfrboost(X_test)\n",
    "\n",
    "train_rmse_gradient = torch.sqrt(torch.mean((y_pred_train_gradient - y_train)**2))\n",
    "test_rmse_gradient = torch.sqrt(torch.mean((y_pred_test_gradient - y_test)**2))\n",
    "\n",
    "print(\"GradientRFRBoostRegressor:\")\n",
    "print(f\"  Train RMSE: {train_rmse_gradient:.4f}\")\n",
    "print(f\"  Test RMSE:  {test_rmse_gradient:.4f}\")\n",
    "\n",
    "# 2. GreedyRFRBoostRegressor\n",
    "greedy_rfrboost = GreedyRFRBoostRegressor(\n",
    "    in_dim=2,\n",
    "    out_dim=1,\n",
    "    hidden_dim=64,\n",
    "    n_layers=3,\n",
    "    boost_lr=0.5,\n",
    "    feature_type=\"SWIM\",\n",
    "    upscale_type=\"identity\",\n",
    "    sandwich_solver=\"dense\",\n",
    "    l2_reg=0.001,\n",
    "    l2_ghat=0.001\n",
    ")\n",
    "\n",
    "# Train and evaluate\n",
    "greedy_rfrboost.fit(X_train, y_train)\n",
    "y_pred_train_greedy = greedy_rfrboost(X_train)\n",
    "y_pred_test_greedy = greedy_rfrboost(X_test)\n",
    "\n",
    "train_rmse_greedy = torch.sqrt(torch.mean((y_pred_train_greedy - y_train)**2))\n",
    "test_rmse_greedy = torch.sqrt(torch.mean((y_pred_test_greedy - y_test)**2))\n",
    "\n",
    "print(\"\\nGreedyRFRBoostRegressor:\")\n",
    "print(f\"  Train RMSE: {train_rmse_greedy:.4f}\")\n",
    "print(f\"  Test RMSE:  {test_rmse_greedy:.4f}\")\n",
    "\n",
    "# Baseline: Naive prediction using mean\n",
    "naive_train_rmse = torch.sqrt(torch.mean((y_train - y_train.mean())**2))\n",
    "naive_test_rmse = torch.sqrt(torch.mean((y_test - y_train.mean())**2))\n",
    "\n",
    "print(\"\\nNaive (mean) baseline:\")\n",
    "print(f\"  Train RMSE: {naive_train_rmse:.4f}\")\n",
    "print(f\"  Test RMSE:  {naive_test_rmse:.4f}\")"
   ]
  }
 ],
 "metadata": {
  "kernelspec": {
   "display_name": ".venv",
   "language": "python",
   "name": "python3"
  },
  "language_info": {
   "codemirror_mode": {
    "name": "ipython",
    "version": 3
   },
   "file_extension": ".py",
   "mimetype": "text/x-python",
   "name": "python",
   "nbconvert_exporter": "python",
   "pygments_lexer": "ipython3",
   "version": "3.11.9"
  }
 },
 "nbformat": 4,
 "nbformat_minor": 2
}
